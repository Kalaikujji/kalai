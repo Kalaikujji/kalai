{
  "nbformat": 4,
  "nbformat_minor": 0,
  "metadata": {
    "colab": {
      "provenance": [],
      "authorship_tag": "ABX9TyPtmPmIeXERzmC2+eUf8ihm",
      "include_colab_link": true
    },
    "kernelspec": {
      "name": "python3",
      "display_name": "Python 3"
    },
    "language_info": {
      "name": "python"
    }
  },
  "cells": [
    {
      "cell_type": "markdown",
      "metadata": {
        "id": "view-in-github",
        "colab_type": "text"
      },
      "source": [
        "<a href=\"https://colab.research.google.com/github/Kalaikujji/kalai/blob/main/pytorch%20basis.ipynb\" target=\"_parent\"><img src=\"https://colab.research.google.com/assets/colab-badge.svg\" alt=\"Open In Colab\"/></a>"
      ]
    },
    {
      "cell_type": "code",
      "execution_count": 1,
      "metadata": {
        "id": "iC-9R2HPqFk_"
      },
      "outputs": [],
      "source": [
        "import torch"
      ]
    },
    {
      "cell_type": "code",
      "source": [
        "torch.rand(3,2)"
      ],
      "metadata": {
        "colab": {
          "base_uri": "https://localhost:8080/"
        },
        "id": "PHgSGpaEypeg",
        "outputId": "bcb73ebc-a5df-4420-9435-b8f816e4d37b"
      },
      "execution_count": 3,
      "outputs": [
        {
          "output_type": "execute_result",
          "data": {
            "text/plain": [
              "tensor([[0.8292, 0.9272],\n",
              "        [0.1849, 0.8364],\n",
              "        [0.5264, 0.5987]])"
            ]
          },
          "metadata": {},
          "execution_count": 3
        }
      ]
    },
    {
      "cell_type": "code",
      "source": [
        "x=torch.empty(4)\n",
        "print(x)"
      ],
      "metadata": {
        "colab": {
          "base_uri": "https://localhost:8080/"
        },
        "id": "jMQKv590yzFy",
        "outputId": "09655782-630e-44e2-a509-285fc6276316"
      },
      "execution_count": 4,
      "outputs": [
        {
          "output_type": "stream",
          "name": "stdout",
          "text": [
            "tensor([-1.7557e-38,  3.1187e-41, -1.7552e-38,  3.1187e-41])\n"
          ]
        }
      ]
    },
    {
      "cell_type": "code",
      "source": [
        "x=torch.empty(2,3)\n",
        "print(x)"
      ],
      "metadata": {
        "colab": {
          "base_uri": "https://localhost:8080/"
        },
        "id": "uBPTxoPZzE-8",
        "outputId": "1626fa29-a440-484d-f60f-3f05a807ce5c"
      },
      "execution_count": 5,
      "outputs": [
        {
          "output_type": "stream",
          "name": "stdout",
          "text": [
            "tensor([[-1.7556e-38,  3.1187e-41,         nan],\n",
            "        [ 3.1187e-41, -1.1796e-07,  4.3726e-41]])\n"
          ]
        }
      ]
    },
    {
      "cell_type": "code",
      "source": [
        "torch.empty(2,3,3)"
      ],
      "metadata": {
        "colab": {
          "base_uri": "https://localhost:8080/"
        },
        "id": "NZic1YCQzO17",
        "outputId": "d4d4a3a8-8c8d-4603-fddf-b00a8af7d74d"
      },
      "execution_count": 6,
      "outputs": [
        {
          "output_type": "execute_result",
          "data": {
            "text/plain": [
              "tensor([[[-2.1577e-38,  3.1187e-41, -8.5403e-17],\n",
              "         [ 4.3728e-41,  8.9683e-44,  0.0000e+00],\n",
              "         [ 1.1210e-43,  0.0000e+00,  8.7726e-29]],\n",
              "\n",
              "        [[ 3.1194e-41,  6.6288e-10,  1.2541e+16],\n",
              "         [ 2.1707e-18,  7.0952e+22,  1.7748e+28],\n",
              "         [ 1.8176e+31,  7.2708e+31,  5.0778e+31]]])"
            ]
          },
          "metadata": {},
          "execution_count": 6
        }
      ]
    },
    {
      "cell_type": "code",
      "source": [
        "torch.empty(2,2,3,4)"
      ],
      "metadata": {
        "colab": {
          "base_uri": "https://localhost:8080/"
        },
        "id": "qurIkgVqzZ9j",
        "outputId": "a172e047-a9de-42b7-c2b8-82a5d07e05c9"
      },
      "execution_count": 8,
      "outputs": [
        {
          "output_type": "execute_result",
          "data": {
            "text/plain": [
              "tensor([[[[-2.3380e-38,  3.1187e-41,  2.9848e-43,  0.0000e+00],\n",
              "          [ 0.0000e+00,  0.0000e+00,  0.0000e+00,  0.0000e+00],\n",
              "          [ 0.0000e+00,  2.3694e-38,  1.8788e+31,  1.7220e+22]],\n",
              "\n",
              "         [[ 2.1715e-18,  6.6715e-10,  6.5928e-10,  6.7062e+22],\n",
              "          [ 3.3237e+21,  5.1116e+22,  1.2915e-11,  3.2774e-09],\n",
              "          [ 1.0860e-05,  1.0395e+21,  2.1707e-18,  4.5447e+30]]],\n",
              "\n",
              "\n",
              "        [[[ 7.0062e+22,  2.1715e-18,  4.5447e+30,  7.0062e+22],\n",
              "          [ 2.1707e-18,  1.9284e+31,  3.2314e-18,  6.0397e-07],\n",
              "          [ 4.1300e-08,  1.2915e-11,  5.2301e+22,  2.6369e-09]],\n",
              "\n",
              "         [[ 1.3165e-08,  6.3081e-10,  2.6514e-09,  1.7472e-04],\n",
              "          [ 3.0519e-18,  3.1360e+27,  7.0800e+31,  3.1095e-18],\n",
              "          [ 4.7851e+22,  2.8826e+32,  4.4248e+30,  7.2442e+22]]]])"
            ]
          },
          "metadata": {},
          "execution_count": 8
        }
      ]
    },
    {
      "cell_type": "code",
      "source": [
        "torch.zeros(2,2)"
      ],
      "metadata": {
        "colab": {
          "base_uri": "https://localhost:8080/"
        },
        "id": "g1p1Rt7BzxU8",
        "outputId": "73d8555d-21bb-42bf-9640-3df6856670e2"
      },
      "execution_count": 11,
      "outputs": [
        {
          "output_type": "execute_result",
          "data": {
            "text/plain": [
              "tensor([[0., 0.],\n",
              "        [0., 0.]])"
            ]
          },
          "metadata": {},
          "execution_count": 11
        }
      ]
    },
    {
      "cell_type": "code",
      "source": [
        "x=torch.ones(2,2)"
      ],
      "metadata": {
        "id": "QprY79ihz-Ij"
      },
      "execution_count": 12,
      "outputs": []
    },
    {
      "cell_type": "code",
      "source": [
        "print(x)"
      ],
      "metadata": {
        "colab": {
          "base_uri": "https://localhost:8080/"
        },
        "id": "-Fq73IOq0DQj",
        "outputId": "fffb99d4-580a-4628-ff64-3d7f66ffacbd"
      },
      "execution_count": 13,
      "outputs": [
        {
          "output_type": "stream",
          "name": "stdout",
          "text": [
            "tensor([[1., 1.],\n",
            "        [1., 1.]])\n"
          ]
        }
      ]
    },
    {
      "cell_type": "code",
      "source": [
        "x.size()"
      ],
      "metadata": {
        "colab": {
          "base_uri": "https://localhost:8080/"
        },
        "id": "lVQv6YVi0G33",
        "outputId": "a599b0f1-3164-4f45-c795-007375e2e5d2"
      },
      "execution_count": 14,
      "outputs": [
        {
          "output_type": "execute_result",
          "data": {
            "text/plain": [
              "torch.Size([2, 2])"
            ]
          },
          "metadata": {},
          "execution_count": 14
        }
      ]
    },
    {
      "cell_type": "code",
      "source": [
        "x.ndim"
      ],
      "metadata": {
        "colab": {
          "base_uri": "https://localhost:8080/"
        },
        "id": "eI6Wofqx0L6w",
        "outputId": "69e3e19f-0b8c-4ce0-f61f-488c845403c8"
      },
      "execution_count": 16,
      "outputs": [
        {
          "output_type": "execute_result",
          "data": {
            "text/plain": [
              "2"
            ]
          },
          "metadata": {},
          "execution_count": 16
        }
      ]
    },
    {
      "cell_type": "code",
      "source": [
        "x=torch.ones(3,3,dtype=torch.int)"
      ],
      "metadata": {
        "id": "a5XB002f0VNE"
      },
      "execution_count": 17,
      "outputs": []
    },
    {
      "cell_type": "code",
      "source": [
        "print(x)"
      ],
      "metadata": {
        "colab": {
          "base_uri": "https://localhost:8080/"
        },
        "id": "NJrqoEt60d7n",
        "outputId": "636dc34d-009c-44af-8933-b8e4e20fdadc"
      },
      "execution_count": 18,
      "outputs": [
        {
          "output_type": "stream",
          "name": "stdout",
          "text": [
            "tensor([[1, 1, 1],\n",
            "        [1, 1, 1],\n",
            "        [1, 1, 1]], dtype=torch.int32)\n"
          ]
        }
      ]
    },
    {
      "cell_type": "code",
      "source": [
        "torch.tensor([4.3,2,4,5,6])"
      ],
      "metadata": {
        "colab": {
          "base_uri": "https://localhost:8080/"
        },
        "id": "0O3D-NnE0gxI",
        "outputId": "e076b1f5-a48c-4b74-b3f9-a40581bbda95"
      },
      "execution_count": 20,
      "outputs": [
        {
          "output_type": "execute_result",
          "data": {
            "text/plain": [
              "tensor([4.3000, 2.0000, 4.0000, 5.0000, 6.0000])"
            ]
          },
          "metadata": {},
          "execution_count": 20
        }
      ]
    },
    {
      "cell_type": "code",
      "source": [
        "torch.manual_seed(42)\n",
        "x=torch.rand(2,2)\n",
        "y=torch.rand(2,2)\n",
        "print(x)\n",
        "print(y\n",
        "      )"
      ],
      "metadata": {
        "colab": {
          "base_uri": "https://localhost:8080/"
        },
        "id": "zMyGoKUu00FP",
        "outputId": "bd2f339c-a489-4b24-86b2-ec638dd0db1b"
      },
      "execution_count": 22,
      "outputs": [
        {
          "output_type": "stream",
          "name": "stdout",
          "text": [
            "tensor([[0.8823, 0.9150],\n",
            "        [0.3829, 0.9593]])\n",
            "tensor([[0.3904, 0.6009],\n",
            "        [0.2566, 0.7936]])\n"
          ]
        }
      ]
    },
    {
      "cell_type": "code",
      "source": [
        "z=x+y\n",
        "print(z)"
      ],
      "metadata": {
        "colab": {
          "base_uri": "https://localhost:8080/"
        },
        "id": "Nuc43e6G1Uve",
        "outputId": "7c329359-5e9c-4167-8928-d2323f700437"
      },
      "execution_count": 24,
      "outputs": [
        {
          "output_type": "stream",
          "name": "stdout",
          "text": [
            "tensor([[1.2727, 1.5159],\n",
            "        [0.6394, 1.7529]])\n"
          ]
        }
      ]
    },
    {
      "cell_type": "code",
      "source": [
        "torch.add(x,y)\n"
      ],
      "metadata": {
        "colab": {
          "base_uri": "https://localhost:8080/"
        },
        "id": "zOQa5sKa1a_V",
        "outputId": "1c8851af-2873-49e9-a259-8e1c18a0bdaa"
      },
      "execution_count": 25,
      "outputs": [
        {
          "output_type": "execute_result",
          "data": {
            "text/plain": [
              "tensor([[1.2727, 1.5159],\n",
              "        [0.6394, 1.7529]])"
            ]
          },
          "metadata": {},
          "execution_count": 25
        }
      ]
    },
    {
      "cell_type": "code",
      "source": [
        "z=x-y\n",
        "print(z)"
      ],
      "metadata": {
        "colab": {
          "base_uri": "https://localhost:8080/"
        },
        "id": "T8ZAuq2P1jNA",
        "outputId": "ae9f361f-0b78-4b4a-a938-f25bc5d88130"
      },
      "execution_count": 26,
      "outputs": [
        {
          "output_type": "stream",
          "name": "stdout",
          "text": [
            "tensor([[0.4918, 0.3141],\n",
            "        [0.1263, 0.1657]])\n"
          ]
        }
      ]
    },
    {
      "cell_type": "code",
      "source": [
        "torch.sub(x,y)\n"
      ],
      "metadata": {
        "colab": {
          "base_uri": "https://localhost:8080/"
        },
        "id": "dvL9VEOC1n71",
        "outputId": "93064b96-2692-417e-b1cd-ed22192c4588"
      },
      "execution_count": 27,
      "outputs": [
        {
          "output_type": "execute_result",
          "data": {
            "text/plain": [
              "tensor([[0.4918, 0.3141],\n",
              "        [0.1263, 0.1657]])"
            ]
          },
          "metadata": {},
          "execution_count": 27
        }
      ]
    },
    {
      "cell_type": "code",
      "source": [
        "torch.mul(x,y)"
      ],
      "metadata": {
        "colab": {
          "base_uri": "https://localhost:8080/"
        },
        "id": "zC524YbT1xLi",
        "outputId": "ed0311f5-7a93-4337-ef75-e0f24a13bfd4"
      },
      "execution_count": 28,
      "outputs": [
        {
          "output_type": "execute_result",
          "data": {
            "text/plain": [
              "tensor([[0.3445, 0.5498],\n",
              "        [0.0982, 0.7613]])"
            ]
          },
          "metadata": {},
          "execution_count": 28
        }
      ]
    },
    {
      "cell_type": "code",
      "source": [
        "y.add_(x)"
      ],
      "metadata": {
        "colab": {
          "base_uri": "https://localhost:8080/"
        },
        "id": "Jv1EwTnt2Bfv",
        "outputId": "a966b349-c45f-49f6-9633-744cd892c414"
      },
      "execution_count": 29,
      "outputs": [
        {
          "output_type": "execute_result",
          "data": {
            "text/plain": [
              "tensor([[1.2727, 1.5159],\n",
              "        [0.6394, 1.7529]])"
            ]
          },
          "metadata": {},
          "execution_count": 29
        }
      ]
    },
    {
      "cell_type": "code",
      "source": [
        "x=torch.rand(5,3)\n",
        "print(x)"
      ],
      "metadata": {
        "colab": {
          "base_uri": "https://localhost:8080/"
        },
        "id": "jqy15vat2H3Z",
        "outputId": "17938708-a54d-43e4-adc5-eb06d2be807f"
      },
      "execution_count": 32,
      "outputs": [
        {
          "output_type": "stream",
          "name": "stdout",
          "text": [
            "tensor([[0.5547, 0.3423, 0.6343],\n",
            "        [0.3644, 0.7104, 0.9464],\n",
            "        [0.7890, 0.2814, 0.7886],\n",
            "        [0.5895, 0.7539, 0.1952],\n",
            "        [0.0050, 0.3068, 0.1165]])\n"
          ]
        }
      ]
    },
    {
      "cell_type": "code",
      "source": [
        "x[:,2]"
      ],
      "metadata": {
        "colab": {
          "base_uri": "https://localhost:8080/"
        },
        "id": "v9YH33Yl2Y4U",
        "outputId": "9e108a1b-97fc-4733-d71f-853ced599d85"
      },
      "execution_count": 35,
      "outputs": [
        {
          "output_type": "execute_result",
          "data": {
            "text/plain": [
              "tensor([0.6343, 0.9464, 0.7886, 0.1952, 0.1165])"
            ]
          },
          "metadata": {},
          "execution_count": 35
        }
      ]
    },
    {
      "cell_type": "code",
      "source": [
        "x=torch.rand(1)\n",
        "x.item()"
      ],
      "metadata": {
        "colab": {
          "base_uri": "https://localhost:8080/"
        },
        "id": "VFXhGtEY21U8",
        "outputId": "27d94af4-0f44-477d-e61e-2598bfd3321b"
      },
      "execution_count": 37,
      "outputs": [
        {
          "output_type": "execute_result",
          "data": {
            "text/plain": [
              "0.9102694392204285"
            ]
          },
          "metadata": {},
          "execution_count": 37
        }
      ]
    },
    {
      "cell_type": "code",
      "source": [
        "x=torch.rand(4,4)\n",
        "print(x)\n",
        "x.view(16)"
      ],
      "metadata": {
        "colab": {
          "base_uri": "https://localhost:8080/"
        },
        "id": "DdeGRMhn3GPB",
        "outputId": "21c3d94b-9435-446b-8164-124504b0da74"
      },
      "execution_count": 41,
      "outputs": [
        {
          "output_type": "stream",
          "name": "stdout",
          "text": [
            "tensor([[0.4340, 0.1371, 0.5117, 0.1585],\n",
            "        [0.0758, 0.2247, 0.0624, 0.1816],\n",
            "        [0.9998, 0.5944, 0.6541, 0.0337],\n",
            "        [0.1716, 0.3336, 0.5782, 0.0600]])\n"
          ]
        },
        {
          "output_type": "execute_result",
          "data": {
            "text/plain": [
              "tensor([0.4340, 0.1371, 0.5117, 0.1585, 0.0758, 0.2247, 0.0624, 0.1816, 0.9998,\n",
              "        0.5944, 0.6541, 0.0337, 0.1716, 0.3336, 0.5782, 0.0600])"
            ]
          },
          "metadata": {},
          "execution_count": 41
        }
      ]
    },
    {
      "cell_type": "code",
      "source": [
        "x.view(2,2,4)"
      ],
      "metadata": {
        "colab": {
          "base_uri": "https://localhost:8080/"
        },
        "id": "G0vyXVEO3NE9",
        "outputId": "7f2871f9-bd45-4aaf-ab7e-ba052aa3f425"
      },
      "execution_count": 42,
      "outputs": [
        {
          "output_type": "execute_result",
          "data": {
            "text/plain": [
              "tensor([[[0.4340, 0.1371, 0.5117, 0.1585],\n",
              "         [0.0758, 0.2247, 0.0624, 0.1816]],\n",
              "\n",
              "        [[0.9998, 0.5944, 0.6541, 0.0337],\n",
              "         [0.1716, 0.3336, 0.5782, 0.0600]]])"
            ]
          },
          "metadata": {},
          "execution_count": 42
        }
      ]
    },
    {
      "cell_type": "code",
      "source": [
        "#tensor to numpy array\n",
        "x=torch.ones(8)\n",
        "print(x)\n",
        "print(type(x))\n",
        "y=x.numpy()\n",
        "print(y)\n",
        "print(type(y))"
      ],
      "metadata": {
        "colab": {
          "base_uri": "https://localhost:8080/"
        },
        "id": "M2J5EGRZ3g7C",
        "outputId": "aa8cb2cd-68f3-4d57-cd1a-63c9e0013517"
      },
      "execution_count": 50,
      "outputs": [
        {
          "output_type": "stream",
          "name": "stdout",
          "text": [
            "tensor([1., 1., 1., 1., 1., 1., 1., 1.])\n",
            "<class 'torch.Tensor'>\n",
            "[1. 1. 1. 1. 1. 1. 1. 1.]\n",
            "<class 'numpy.ndarray'>\n"
          ]
        }
      ]
    },
    {
      "cell_type": "code",
      "source": [
        "x.add(3)\n",
        "print(x)"
      ],
      "metadata": {
        "colab": {
          "base_uri": "https://localhost:8080/"
        },
        "id": "w7VtDjwu3_gI",
        "outputId": "45816fca-1711-4a70-b725-de3dd90961fd"
      },
      "execution_count": 52,
      "outputs": [
        {
          "output_type": "stream",
          "name": "stdout",
          "text": [
            "tensor([1., 1., 1., 1., 1., 1., 1., 1.])\n"
          ]
        }
      ]
    },
    {
      "cell_type": "code",
      "source": [
        "print(y)"
      ],
      "metadata": {
        "colab": {
          "base_uri": "https://localhost:8080/"
        },
        "id": "FDPk1Bwh4xf_",
        "outputId": "f0176406-1643-4a5a-e0ab-4b30cfa94339"
      },
      "execution_count": 53,
      "outputs": [
        {
          "output_type": "stream",
          "name": "stdout",
          "text": [
            "[1. 1. 1. 1. 1. 1. 1. 1.]\n"
          ]
        }
      ]
    },
    {
      "cell_type": "code",
      "source": [
        "#numpy array to tensor\n",
        "import numpy as np\n",
        "a=np.ones(5)\n",
        "print(a)\n",
        "print(type(a))\n",
        "b=torch.from_numpy(a)\n"
      ],
      "metadata": {
        "colab": {
          "base_uri": "https://localhost:8080/"
        },
        "id": "ajAsl7Pn47L9",
        "outputId": "3741ad83-0218-4381-ad7a-f736af90bbd9"
      },
      "execution_count": 55,
      "outputs": [
        {
          "output_type": "stream",
          "name": "stdout",
          "text": [
            "[1. 1. 1. 1. 1.]\n",
            "<class 'numpy.ndarray'>\n"
          ]
        }
      ]
    }
  ]
}